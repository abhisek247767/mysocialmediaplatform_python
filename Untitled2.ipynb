{
  "nbformat": 4,
  "nbformat_minor": 0,
  "metadata": {
    "colab": {
      "name": "Untitled2.ipynb",
      "provenance": [],
      "authorship_tag": "ABX9TyPKMkRYzYW3wl5e0yjk2ig1",
      "include_colab_link": true
    },
    "kernelspec": {
      "name": "python3",
      "display_name": "Python 3"
    },
    "language_info": {
      "name": "python"
    }
  },
  "cells": [
    {
      "cell_type": "markdown",
      "metadata": {
        "id": "view-in-github",
        "colab_type": "text"
      },
      "source": [
        "<a href=\"https://colab.research.google.com/github/abhisek247767/mysocialmediaplatform_python/blob/main/Untitled2.ipynb\" target=\"_parent\"><img src=\"https://colab.research.google.com/assets/colab-badge.svg\" alt=\"Open In Colab\"/></a>"
      ]
    },
    {
      "cell_type": "code",
      "metadata": {
        "colab": {
          "base_uri": "https://localhost:8080/"
        },
        "id": "a6vVKCxwI83E",
        "outputId": "4ed6343a-fced-4957-b3d0-9dd3765ddda9"
      },
      "source": [
        "!pip install qrcode"
      ],
      "execution_count": null,
      "outputs": [
        {
          "output_type": "stream",
          "name": "stdout",
          "text": [
            "Requirement already satisfied: qrcode in /usr/local/lib/python3.7/dist-packages (7.3.1)\n"
          ]
        }
      ]
    },
    {
      "cell_type": "code",
      "metadata": {
        "id": "ucda2o9QKaTh"
      },
      "source": [
        "import qrcode as qr\n",
        "img=qr.make(\"https://www.instagram.com/__abhisek__roy__/?hl=en\")\n",
        "img.save(\"abhisek_roy_instragram.png\")\n"
      ],
      "execution_count": 10,
      "outputs": []
    },
    {
      "cell_type": "code",
      "metadata": {
        "id": "FVkqkZAcZv1-"
      },
      "source": [
        "import qrcode as qr\n",
        "img1=qr.make(\"https://www.linkedin.com/in/abhisek-roy-2002/\")\n",
        "img1.save(\"Linkdin_abhisek_Roy.png\")"
      ],
      "execution_count": 11,
      "outputs": []
    },
    {
      "cell_type": "code",
      "metadata": {
        "id": "Re32vR29a5Gp"
      },
      "source": [
        "import qrcode as qr\n",
        "img2=qr.make(\"https://www.hackerrank.com/abhisekroy169\")\n",
        "img2.save(\"hackerrank_abhisek_Roy.png\")"
      ],
      "execution_count": null,
      "outputs": []
    }
  ]
}